{
 "cells": [
  {
   "cell_type": "markdown",
   "metadata": {},
   "source": [
    "## 通过一个小实例来了解正则表达式的作用"
   ]
  },
  {
   "cell_type": "code",
   "execution_count": 1,
   "metadata": {},
   "outputs": [],
   "source": [
    "import re"
   ]
  },
  {
   "cell_type": "code",
   "execution_count": 2,
   "metadata": {},
   "outputs": [
    {
     "name": "stdout",
     "output_type": "stream",
     "text": [
      "['abc', 'abc']\n",
      "['123', '456', '789']\n"
     ]
    }
   ],
   "source": [
    "s = '123abc456eabc789'\n",
    "print(re.findall(r'abc', s))\n",
    "print(re.findall(r'[0-9]+', s))\n"
   ]
  },
  {
   "cell_type": "code",
   "execution_count": 8,
   "metadata": {},
   "outputs": [
    {
     "name": "stdout",
     "output_type": "stream",
     "text": [
      "['Chapter1', 'Chapter2', 'Chapter10', 'Chapter99']\n",
      "['Chapter10', 'Chapter99']\n",
      "['Chapter1', 'Chapter2', 'Chapter10', 'Chapter99']\n",
      "['Chapter10', 'Chapter99']\n"
     ]
    }
   ],
   "source": [
    "s = 'Chapter1 Chapter2 Chapter10 Chapter99 fheh'\n",
    "print(re.findall('Chapter[1-9][0-9]*', s))\n",
    "print(re.findall('Chapter[1-9][0-9]+', s))\n",
    "print(re.findall('Chapter[1-9][0-9]{0,1}', s))\n",
    "print(re.findall('Chapter[1-9][0-9]{1,2}', s))"
   ]
  },
  {
   "cell_type": "code",
   "execution_count": 10,
   "metadata": {},
   "outputs": [
    {
     "name": "stdout",
     "output_type": "stream",
     "text": [
      "['<H1>Chapter 1 – Introduction to Regular Expressions</H1>']\n"
     ]
    },
    {
     "data": {
      "text/plain": [
       "['<H1>', '</H1>']"
      ]
     },
     "execution_count": 10,
     "metadata": {},
     "output_type": "execute_result"
    }
   ],
   "source": [
    "# 贪婪模式\n",
    "s = '<H1>Chapter 1 – Introduction to Regular Expressions</H1>'\n",
    "print(re.findall('<.*>', s))\n",
    "# 非贪婪模式\n",
    "re.findall('<.*?>', s)"
   ]
  },
  {
   "cell_type": "code",
   "execution_count": 11,
   "metadata": {},
   "outputs": [
    {
     "name": "stdout",
     "output_type": "stream",
     "text": [
      "['Chapter1']\n",
      "['Chapter99']\n",
      "['Cha']\n",
      "['ter']\n",
      "['apt']\n",
      "[]\n"
     ]
    }
   ],
   "source": [
    "s = 'Chapter1 Chapter2 Chapter11 Chapter99'\n",
    "print(re.findall('^Chapter[1-9][0-9]{0,1}', s))\n",
    "# result: ['Chapter1']\n",
    "print(re.findall('^Chapter[1-9][0-9]{0,1}$', 'Chapter99'))\n",
    "# result: ['Chapter99']\n",
    "print(re.findall(r'\\bCha', ' Chapter'))\n",
    "# result: ['Cha']\n",
    "print(re.findall(r'ter\\b', ' Chapter'))\n",
    "# result: ['ter']\n",
    "print(re.findall(r'\\Bapt', 'Chapter'))\n",
    "# result: ['apt']\n",
    "print(re.findall(r'\\Bapt', 'aptitude'))\n",
    "# result: []"
   ]
  },
  {
   "cell_type": "code",
   "execution_count": 34,
   "metadata": {},
   "outputs": [
    {
     "name": "stdout",
     "output_type": "stream",
     "text": [
      "['111']\n",
      "['aaa111a']\n",
      "['aaa111aaa']\n"
     ]
    }
   ],
   "source": [
    "s = 'aaa111aaa , bbb222 , 333ccc'\n",
    "print(re.findall(r'[a-z]+(\\d+)[a-z]', s))\n",
    "print(re.findall(r'[a-z]+\\d+[a-z]', s))\n",
    "print(re.findall(r'[a-z]+\\d+[a-z]+', s))"
   ]
  },
  {
   "cell_type": "code",
   "execution_count": 39,
   "metadata": {},
   "outputs": [
    {
     "name": "stdout",
     "output_type": "stream",
     "text": [
      "[('111', 'aaa', '222', 'aaa', '111')]\n",
      "[]\n",
      "[('333', 'bbb', '444', 'bbb', '333')]\n",
      "[]\n"
     ]
    }
   ],
   "source": [
    "s = '111aaa222aaa111 , 333bbb444bb33'\n",
    "print(re.findall(r'(\\d+)([a-z]+)(\\d+)(\\2)(\\1)', s))\n",
    "print(re.findall(r'(\\d+)([a-z]+)(\\d+)(\\2)(\\1)', '333bbb444bb33'))\n",
    "print(re.findall(r'(\\d+)([a-z]+)(\\d+)(\\2)(\\1)', '333bbb444bbb333'))\n",
    "print(re.findall(r'(\\d+)([a-z]+)(\\d+)(\\1)(\\2)', '333bbb444bbb333'))"
   ]
  },
  {
   "cell_type": "code",
   "execution_count": 40,
   "metadata": {},
   "outputs": [
    {
     "name": "stdout",
     "output_type": "stream",
     "text": [
      "['industry', 'industries']\n"
     ]
    }
   ],
   "source": [
    "s = 'industry is industries lala industyyy industiii'\n",
    "print(re.findall(r'industr(?:y|ies)', s))"
   ]
  },
  {
   "cell_type": "code",
   "execution_count": 43,
   "metadata": {},
   "outputs": [
    {
     "data": {
      "text/plain": [
       "['Windows']"
      ]
     },
     "execution_count": 43,
     "metadata": {},
     "output_type": "execute_result"
    }
   ],
   "source": [
    "s = 'Windows2000 Windows3.1'\n",
    "re.findall(r'Windows(?=95|98|NT|2000)', s)\n",
    "# 匹配 \"Windows2000\" 中的 \"Windows\",不匹配 \"Windows3.1\" 中的 \"Windows\""
   ]
  },
  {
   "cell_type": "code",
   "execution_count": 44,
   "metadata": {},
   "outputs": [
    {
     "data": {
      "text/plain": [
       "['Windows']"
      ]
     },
     "execution_count": 44,
     "metadata": {},
     "output_type": "execute_result"
    }
   ],
   "source": [
    "s = 'Windows2000 Windows3.1'\n",
    "re.findall(r'Windows(?!95|98|NT|2000)', s)\n",
    "# 匹配 \"Windows3.1\" 中的 \"Windows\",不匹配 \"Windows2000\" 中的 \"Windows\""
   ]
  },
  {
   "cell_type": "code",
   "execution_count": 45,
   "metadata": {},
   "outputs": [
    {
     "name": "stdout",
     "output_type": "stream",
     "text": [
      "[('aaa', 'aaa'), ('fff', 'ggg')]\n",
      "['aaa']\n",
      "['aaa', 'fff']\n",
      "[('111', 'aaa'), ('777', 'ggg')]\n",
      "['aaa', 'bbb', 'ddd', 'eee', 'fff']\n",
      "['aaa']\n"
     ]
    }
   ],
   "source": [
    "s = 'aaa111aaa,bbb222,333ccc,444ddd444,555eee666,fff777ggg'\n",
    "print(re.findall(r'([a-z]+)\\d+([a-z]+)', s))\n",
    "# result:[('aaa', 'aaa'), ('fff', 'ggg')]\n",
    "print(re.findall(r'(?P<g1>[a-z]+)\\d+(?P=g1)', s))\n",
    "# result:['aaa']\n",
    "print(re.findall(r'(?P<g1>[a-z]+)\\d+(?P=g1)', 'aaa111aaa,bbb222,333ccc,444ddd444,555eee666,fff777fff'))\n",
    "# result:['aaa', 'fff']\n",
    "print(re.findall(r'[a-z]+(\\d+)([a-z]+)', s))\n",
    "# result: [('111', 'aaa'), ('777', 'ggg')]\n",
    "print(re.findall(r'([a-z]+)\\d+', s))\n",
    "# result:['aaa', 'bbb', 'ddd', 'eee', 'fff']\n",
    "print(re.findall(r'([a-z]+)\\d+\\1', s))\n",
    "# result:['aaa']"
   ]
  },
  {
   "cell_type": "code",
   "execution_count": 46,
   "metadata": {},
   "outputs": [
    {
     "name": "stdout",
     "output_type": "stream",
     "text": [
      "['I have a dog', 'I have a cat']\n"
     ]
    },
    {
     "data": {
      "text/plain": [
       "['I have a dog', 'cat']"
      ]
     },
     "execution_count": 46,
     "metadata": {},
     "output_type": "execute_result"
    }
   ],
   "source": [
    "s = 'I have a dog , I have a cat'\n",
    "print(re.findall(r'I have a (?:dog|cat)', s))\n",
    "# result: ['I have a dog', 'I have a cat']\n",
    "re.findall(r'I have a dog|cat', s)\n",
    "# result: ['I have a dog', 'cat']"
   ]
  },
  {
   "cell_type": "code",
   "execution_count": 47,
   "metadata": {},
   "outputs": [
    {
     "name": "stdout",
     "output_type": "stream",
     "text": [
      "['ababab']\n"
     ]
    },
    {
     "data": {
      "text/plain": [
       "['ab']"
      ]
     },
     "execution_count": 47,
     "metadata": {},
     "output_type": "execute_result"
    }
   ],
   "source": [
    "s = 'ababab abbabb aabaab abbbbbab'\n",
    "print(re.findall(r'\\b(?:ab)+\\b', s))\n",
    "# result: ['ababab']\n",
    "re.findall(r'\\b(ab)+\\b', s)\n",
    "# result: ['ab']"
   ]
  },
  {
   "cell_type": "code",
   "execution_count": 20,
   "metadata": {},
   "outputs": [
    {
     "name": "stdout",
     "output_type": "stream",
     "text": [
      "['3434']\n",
      "['ka3434bd']\n"
     ]
    }
   ],
   "source": [
    "s = 'da12bka3434bdca4343bdca234bm'\n",
    "print(re.findall(r'(?<=[^c]a)\\d*(?=bd)', s))\n",
    "print(re.findall(r'[^c]a\\d*bd', s))"
   ]
  },
  {
   "cell_type": "code",
   "execution_count": 9,
   "metadata": {},
   "outputs": [
    {
     "name": "stdout",
     "output_type": "stream",
     "text": [
      "['56']\n"
     ]
    }
   ],
   "source": [
    "s = '5569'\n",
    "print(re.findall(r'(?<=[^4])56(?=9)', s))"
   ]
  },
  {
   "cell_type": "code",
   "execution_count": 48,
   "metadata": {},
   "outputs": [
    {
     "name": "stdout",
     "output_type": "stream",
     "text": [
      "['once']\n",
      "[]\n",
      "['time']\n",
      "[]\n",
      "[]\n",
      "['time']\n"
     ]
    }
   ],
   "source": [
    "s1 = \"once upon a time\"\n",
    "s2 = \"There once was a man from NewYork\"\n",
    "print(re.findall(r'^once', s1))\n",
    "# result: ['once']\n",
    "print(re.findall(r'^once', s2))\n",
    "# result: []\n",
    "print(re.findall(r'time$', s1))\n",
    "# result: ['time']\n",
    "print(re.findall(r'times$', s1))\n",
    "# result: []\n",
    "print(re.findall(r'^time$', s1))\n",
    "# result: []\n",
    "print(re.findall(r'^time$', 'time'))\n",
    "# result: ['time']"
   ]
  },
  {
   "cell_type": "code",
   "execution_count": 49,
   "metadata": {},
   "outputs": [
    {
     "name": "stdout",
     "output_type": "stream",
     "text": [
      "['111', '222']\n"
     ]
    }
   ],
   "source": [
    "s = '111,222,aaa,bbb,ccc333,444ddd'\n",
    "rule = r'\\b\\d+\\b'\n",
    "compiled_rule = re.compile(rule)\n",
    "print(compiled_rule.findall(s))"
   ]
  },
  {
   "cell_type": "code",
   "execution_count": 50,
   "metadata": {},
   "outputs": [
    {
     "name": "stdout",
     "output_type": "stream",
     "text": [
      "(0, 3)\n",
      "None\n"
     ]
    }
   ],
   "source": [
    "print(re.match('www', 'www.runoob.com').span())  # 在起始位置匹配\n",
    "# result: (0, 3)\n",
    "print(re.match('com', 'www.runoob.com'))  # 不在起始位置匹配\n",
    "# result: None"
   ]
  },
  {
   "cell_type": "code",
   "execution_count": 3,
   "metadata": {},
   "outputs": [
    {
     "name": "stdout",
     "output_type": "stream",
     "text": [
      "<re.Match object; span=(0, 26), match='Cats are smarter than dogs'>\n",
      "matchObj.group() :  Cats are smarter than dogs\n",
      "matchObj.group(1) :  Cats\n",
      "matchObj.group(2) :  smarter\n"
     ]
    }
   ],
   "source": [
    "line = \"Cats are smarter than dogs\"\n",
    "matchObj = re.match(r'(.*) are (.*?) .*', line, re.I|re.M)\n",
    "print(re.match(r'(.*) are (.*?) .*', line))\n",
    "if matchObj:\n",
    "    print(\"matchObj.group() : \", matchObj.group())\n",
    "    print(\"matchObj.group(1) : \", matchObj.group(1))\n",
    "    print(\"matchObj.group(2) : \", matchObj.group(2))\n",
    "else:\n",
    "    print(\"No match!!\")"
   ]
  },
  {
   "cell_type": "code",
   "execution_count": 55,
   "metadata": {},
   "outputs": [
    {
     "name": "stdout",
     "output_type": "stream",
     "text": [
      "(0, 3)\n",
      "(11, 14)\n"
     ]
    }
   ],
   "source": [
    "print(re.search('www', 'www.runoob.com').span())  # 在起始位置匹配\n",
    "# result: (0, 3)\n",
    "print(re.search('com', 'www.runoob.com').span())  # 不在起始位置匹配\n",
    "# result: (11, 14)"
   ]
  },
  {
   "cell_type": "code",
   "execution_count": 57,
   "metadata": {},
   "outputs": [
    {
     "name": "stdout",
     "output_type": "stream",
     "text": [
      "searchObj.group() :  Cats are smarter than dogs\n",
      "searchObj.group(1) :  Cats\n",
      "searchObj.group(2) :  smarter\n"
     ]
    }
   ],
   "source": [
    "line = \"Cats are smarter than dogs\";\n",
    "searchObj = re.search(r'(.*) are (.*?) .*', line, re.M | re.I)\n",
    "\n",
    "if searchObj:\n",
    "    print(\"searchObj.group() : \", searchObj.group())\n",
    "    # result: searchObj.group() :  Cats are smarter than dogs\n",
    "    print(\"searchObj.group(1) : \", searchObj.group(1))\n",
    "    # result: searchObj.group(1) :  Cats\n",
    "    print(\"searchObj.group(2) : \", searchObj.group(2))\n",
    "    # result: searchObj.group(2) :  smarter\n",
    "else:\n",
    "    print(\"Nothing found!!\")"
   ]
  },
  {
   "cell_type": "code",
   "execution_count": 58,
   "metadata": {},
   "outputs": [
    {
     "name": "stdout",
     "output_type": "stream",
     "text": [
      "Phone Num :  2004-959-559 \n",
      "Phone Num :  2004959559\n"
     ]
    }
   ],
   "source": [
    "phone = \"2004-959-559 # This is Phone Number\"\n",
    "num = re.sub(r'#.*$', \"\", phone)\n",
    "print(\"Phone Num : \", num)\n",
    "# result: Phone Num :  2004-959-559\n",
    "\n",
    "num = re.sub(r'\\D', \"\", phone)\n",
    "print(\"Phone Num : \", num)\n",
    "# result: Phone Num :  2004959559"
   ]
  },
  {
   "cell_type": "code",
   "execution_count": 59,
   "metadata": {},
   "outputs": [
    {
     "name": "stdout",
     "output_type": "stream",
     "text": [
      "../img/gifts/img1.jpg\n",
      "../img/gifts/img2.jpg\n",
      "../img/gifts/img3.jpg\n",
      "../img/gifts/img4.jpg\n",
      "../img/gifts/img6.jpg\n"
     ]
    }
   ],
   "source": [
    "from urllib.request import urlopen\n",
    "from bs4 import BeautifulSoup\n",
    "import re\n",
    "\n",
    "html = urlopen(\"http://www.pythonscraping.com/pages/page3.html\")\n",
    "bsObj = BeautifulSoup(html, 'lxml')\n",
    "# print(bsObj.prettify())\n",
    "images = bsObj.findAll(\"img\", {\"src\": re.compile(\"\\.\\.\\/img\\/gifts/img.*\\.jpg\")})\n",
    "for image in images:\n",
    "    print(image[\"src\"])"
   ]
  },
  {
   "cell_type": "code",
   "execution_count": null,
   "metadata": {},
   "outputs": [],
   "source": []
  }
 ],
 "metadata": {
  "kernelspec": {
   "display_name": "Python 3",
   "language": "python",
   "name": "python3"
  },
  "language_info": {
   "codemirror_mode": {
    "name": "ipython",
    "version": 3
   },
   "file_extension": ".py",
   "mimetype": "text/x-python",
   "name": "python",
   "nbconvert_exporter": "python",
   "pygments_lexer": "ipython3",
   "version": "3.7.3"
  }
 },
 "nbformat": 4,
 "nbformat_minor": 2
}
